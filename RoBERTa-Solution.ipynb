{
 "cells": [
  {
   "cell_type": "markdown",
   "id": "b0e2c08a",
   "metadata": {},
   "source": [
    "# Using RoBERTa for Similarity Detection in English Language"
   ]
  },
  {
   "cell_type": "markdown",
   "id": "58dd7a66",
   "metadata": {},
   "source": [
    "## Task 0: Import Libraries"
   ]
  },
  {
   "cell_type": "code",
   "execution_count": 1,
   "id": "ff92f431",
   "metadata": {},
   "outputs": [
    {
     "name": "stderr",
     "output_type": "stream",
     "text": [
      "/usr/lib/python3/dist-packages/requests/__init__.py:89: RequestsDependencyWarning: urllib3 (1.26.15) or chardet (3.0.4) doesn't match a supported version!\n",
      "  warnings.warn(\"urllib3 ({}) or chardet ({}) doesn't match a supported \"\n"
     ]
    }
   ],
   "source": [
    "import torch\n",
    "import numpy as np\n",
    "import pandas as pd\n",
    "from transformers import RobertaTokenizer, RobertaForSequenceClassification, AdamW, get_linear_schedule_with_warmup, Trainer, TrainingArguments\n",
    "from sklearn import metrics\n",
    "from sklearn.metrics import accuracy_score\n",
    "import matplotlib.pyplot as plt\n",
    "from sklearn.metrics import confusion_matrix"
   ]
  },
  {
   "cell_type": "markdown",
   "id": "8604a7d5",
   "metadata": {},
   "source": [
    "## Task 1: Load and Preprocess the Data"
   ]
  },
  {
   "cell_type": "code",
   "execution_count": 2,
   "id": "890646b3",
   "metadata": {},
   "outputs": [
    {
     "name": "stdout",
     "output_type": "stream",
     "text": [
      "<bound method NDFrame.head of                                                source   \n",
      "0   M. Comte would not advise so irrational a proc...  \\\n",
      "1   Without enumerating all the modern authors who...   \n",
      "2   Therefore, a person should search his actions ...   \n",
      "3   \"I have heard many accounts of him,\" said Emil...   \n",
      "4   \"I have heard many accounts of him,\" said Emil...   \n",
      "..                                                ...   \n",
      "95  We have many processes by which the form of th...   \n",
      "96   It was the custom in Elizabethan times to wea...   \n",
      "97   It was the custom in Elizabethan times to wea...   \n",
      "98  The object of the adjustable stroke is to dimi...   \n",
      "99  Thad, of course. And, Bill, we're going to get...   \n",
      "\n",
      "                                               target  label  \n",
      "0   Even M. Comte would spurn such irrational reas...      1  \n",
      "1   Just without specifying the current writers wh...      1  \n",
      "2   As such, a person should analyze what he did a...      1  \n",
      "3   Emily said, \"I have heard many different thing...      1  \n",
      "4   \"I have heard many accounts of him,\" said Emil...      0  \n",
      "..                                                ...    ...  \n",
      "95  There are many ways by which power may switch ...      1  \n",
      "96  It was the duty in Somebody present to endure ...      0  \n",
      "97  During the Elizabethan era it was very fashion...      1  \n",
      "98  In order to diminish the capacity of the pumps...      1  \n",
      "99  Naturally, Thad and also Bill, whom we'll get ...      1  \n",
      "\n",
      "[100 rows x 3 columns]>\n"
     ]
    }
   ],
   "source": [
    "data = []\n",
    "\n",
    "for i in range(100):\n",
    "    ## Read original file\n",
    "    original = open('/usercode/Dataset/' + str(i+1) + '-original.txt', 'r')\n",
    "    original_text = original.read()\n",
    "\n",
    "    ## Read candidate file\n",
    "    candidate = open('/usercode/Dataset/' + str(i+1) + '-paraphrase.txt', 'r')\n",
    "    candidate_text = candidate.read()\n",
    "\n",
    "    ## Read metadata file\n",
    "    with open('/usercode/Dataset/' + str(i+1) + '-metadata.txt', 'r') as f:\n",
    "        for line in f:\n",
    "            key, value = line.strip().split(':')\n",
    "            if key == 'Paraphrase':\n",
    "                verdict = value.strip()\n",
    "    \n",
    "    sample = [original_text, candidate_text, verdict]\n",
    "    data.append([s.replace('\\n', ' ') for s in sample])\n",
    "\n",
    "\n",
    "# create a 2D array\n",
    "my_array = np.array(data)\n",
    "\n",
    "# convert the array into a dataframe\n",
    "df = pd.DataFrame(my_array)\n",
    "\n",
    "df.columns = [\"source\", \"target\", \"label\"]\n",
    "\n",
    "# Define a dictionary to map day values to integers\n",
    "verdict_dict = {'Yes': 1, 'No': 0}\n",
    "\n",
    "# Replace day values with integers\n",
    "df['label'] = df['label'].map(verdict_dict)\n",
    "\n",
    "print(df.head)"
   ]
  },
  {
   "cell_type": "markdown",
   "id": "7457e7f4",
   "metadata": {},
   "source": [
    "## Task 2: Split the Dataset"
   ]
  },
  {
   "cell_type": "code",
   "execution_count": 3,
   "id": "5e49ad97",
   "metadata": {},
   "outputs": [],
   "source": [
    "# Split the dataset into train, validtion and test sets\n",
    "train_df = df[:60]\n",
    "val_df = df[60:80]\n",
    "test_df = df[80:]"
   ]
  },
  {
   "cell_type": "markdown",
   "id": "1b7b8eea",
   "metadata": {},
   "source": [
    "## Task 3: Tokenize Datasets"
   ]
  },
  {
   "cell_type": "code",
   "execution_count": 4,
   "id": "61b7327b",
   "metadata": {},
   "outputs": [
    {
     "data": {
      "application/vnd.jupyter.widget-view+json": {
       "model_id": "5b950bd314b443ae9618c19277a84439",
       "version_major": 2,
       "version_minor": 0
      },
      "text/plain": [
       "Downloading (…)olve/main/vocab.json:   0%|          | 0.00/899k [00:00<?, ?B/s]"
      ]
     },
     "metadata": {},
     "output_type": "display_data"
    },
    {
     "data": {
      "application/vnd.jupyter.widget-view+json": {
       "model_id": "04b1f4734aee418d946f6f503b810bfa",
       "version_major": 2,
       "version_minor": 0
      },
      "text/plain": [
       "Downloading (…)olve/main/merges.txt:   0%|          | 0.00/456k [00:00<?, ?B/s]"
      ]
     },
     "metadata": {},
     "output_type": "display_data"
    },
    {
     "data": {
      "application/vnd.jupyter.widget-view+json": {
       "model_id": "cc149c81386f4ea2a60ffcaa2d8d901a",
       "version_major": 2,
       "version_minor": 0
      },
      "text/plain": [
       "Downloading (…)lve/main/config.json:   0%|          | 0.00/481 [00:00<?, ?B/s]"
      ]
     },
     "metadata": {},
     "output_type": "display_data"
    }
   ],
   "source": [
    "tokenizer = RobertaTokenizer.from_pretrained('roberta-base')\n",
    "\n",
    "train_encodings = tokenizer(train_df['source'].tolist(), train_df['target'].tolist(), truncation=True, padding=True)\n",
    "val_encodings = tokenizer(val_df['source'].tolist(), val_df['target'].tolist(), truncation=True, padding=True)\n",
    "test_encodings = tokenizer(test_df['source'].tolist(), test_df['target'].tolist(), truncation=True, padding=True)"
   ]
  },
  {
   "cell_type": "markdown",
   "id": "658e5906",
   "metadata": {},
   "source": [
    "## Task 4: Generate Tensors"
   ]
  },
  {
   "cell_type": "code",
   "execution_count": 5,
   "id": "b8ed5ab9",
   "metadata": {},
   "outputs": [],
   "source": [
    "class ParaphraseDataset(torch.utils.data.Dataset):\n",
    "    def __init__(self, encodings, labels):\n",
    "        self.encodings = encodings\n",
    "        self.labels = labels\n",
    "\n",
    "    def __getitem__(self, idx):\n",
    "        item = {key: torch.tensor(val[idx]) for key, val in self.encodings.items()}\n",
    "        item['labels'] = torch.tensor(self.labels[idx])\n",
    "        return item\n",
    "\n",
    "    def __len__(self):\n",
    "        return len(self.labels)\n",
    "\n",
    "train_dataset = ParaphraseDataset(train_encodings, train_df['label'].tolist())\n",
    "val_dataset = ParaphraseDataset(val_encodings, val_df['label'].tolist())\n",
    "test_dataset = ParaphraseDataset(test_encodings, test_df['label'].tolist())"
   ]
  },
  {
   "cell_type": "markdown",
   "id": "c106c70f",
   "metadata": {},
   "source": [
    "## Task 5: Load Pre-trained RoBERTa Model and Select Device"
   ]
  },
  {
   "cell_type": "code",
   "execution_count": 6,
   "id": "6dbb1338",
   "metadata": {},
   "outputs": [
    {
     "data": {
      "application/vnd.jupyter.widget-view+json": {
       "model_id": "7142dbb56c724993a3c5ea7ad189481e",
       "version_major": 2,
       "version_minor": 0
      },
      "text/plain": [
       "Downloading pytorch_model.bin:   0%|          | 0.00/501M [00:00<?, ?B/s]"
      ]
     },
     "metadata": {},
     "output_type": "display_data"
    },
    {
     "name": "stderr",
     "output_type": "stream",
     "text": [
      "Some weights of the model checkpoint at roberta-base were not used when initializing RobertaForSequenceClassification: ['lm_head.dense.weight', 'lm_head.layer_norm.weight', 'roberta.pooler.dense.weight', 'lm_head.dense.bias', 'lm_head.bias', 'roberta.pooler.dense.bias', 'lm_head.decoder.weight', 'lm_head.layer_norm.bias']\n",
      "- This IS expected if you are initializing RobertaForSequenceClassification from the checkpoint of a model trained on another task or with another architecture (e.g. initializing a BertForSequenceClassification model from a BertForPreTraining model).\n",
      "- This IS NOT expected if you are initializing RobertaForSequenceClassification from the checkpoint of a model that you expect to be exactly identical (initializing a BertForSequenceClassification model from a BertForSequenceClassification model).\n",
      "Some weights of RobertaForSequenceClassification were not initialized from the model checkpoint at roberta-base and are newly initialized: ['classifier.dense.bias', 'classifier.dense.weight', 'classifier.out_proj.bias', 'classifier.out_proj.weight']\n",
      "You should probably TRAIN this model on a down-stream task to be able to use it for predictions and inference.\n"
     ]
    },
    {
     "data": {
      "text/plain": [
       "RobertaForSequenceClassification(\n",
       "  (roberta): RobertaModel(\n",
       "    (embeddings): RobertaEmbeddings(\n",
       "      (word_embeddings): Embedding(50265, 768, padding_idx=1)\n",
       "      (position_embeddings): Embedding(514, 768, padding_idx=1)\n",
       "      (token_type_embeddings): Embedding(1, 768)\n",
       "      (LayerNorm): LayerNorm((768,), eps=1e-05, elementwise_affine=True)\n",
       "      (dropout): Dropout(p=0.1, inplace=False)\n",
       "    )\n",
       "    (encoder): RobertaEncoder(\n",
       "      (layer): ModuleList(\n",
       "        (0-11): 12 x RobertaLayer(\n",
       "          (attention): RobertaAttention(\n",
       "            (self): RobertaSelfAttention(\n",
       "              (query): Linear(in_features=768, out_features=768, bias=True)\n",
       "              (key): Linear(in_features=768, out_features=768, bias=True)\n",
       "              (value): Linear(in_features=768, out_features=768, bias=True)\n",
       "              (dropout): Dropout(p=0.1, inplace=False)\n",
       "            )\n",
       "            (output): RobertaSelfOutput(\n",
       "              (dense): Linear(in_features=768, out_features=768, bias=True)\n",
       "              (LayerNorm): LayerNorm((768,), eps=1e-05, elementwise_affine=True)\n",
       "              (dropout): Dropout(p=0.1, inplace=False)\n",
       "            )\n",
       "          )\n",
       "          (intermediate): RobertaIntermediate(\n",
       "            (dense): Linear(in_features=768, out_features=3072, bias=True)\n",
       "            (intermediate_act_fn): GELUActivation()\n",
       "          )\n",
       "          (output): RobertaOutput(\n",
       "            (dense): Linear(in_features=3072, out_features=768, bias=True)\n",
       "            (LayerNorm): LayerNorm((768,), eps=1e-05, elementwise_affine=True)\n",
       "            (dropout): Dropout(p=0.1, inplace=False)\n",
       "          )\n",
       "        )\n",
       "      )\n",
       "    )\n",
       "  )\n",
       "  (classifier): RobertaClassificationHead(\n",
       "    (dense): Linear(in_features=768, out_features=768, bias=True)\n",
       "    (dropout): Dropout(p=0.1, inplace=False)\n",
       "    (out_proj): Linear(in_features=768, out_features=2, bias=True)\n",
       "  )\n",
       ")"
      ]
     },
     "execution_count": 6,
     "metadata": {},
     "output_type": "execute_result"
    }
   ],
   "source": [
    "model = RobertaForSequenceClassification.from_pretrained('roberta-base', num_labels=2)\n",
    "\n",
    "device = torch.device('cuda') if torch.cuda.is_available() else torch.device('cpu')\n",
    "model.to(device)"
   ]
  },
  {
   "cell_type": "markdown",
   "id": "65ce66fb",
   "metadata": {},
   "source": [
    "## Task 6: Prepare Training Arguments and Create Trainer Object"
   ]
  },
  {
   "cell_type": "code",
   "execution_count": 7,
   "id": "486298fd",
   "metadata": {},
   "outputs": [],
   "source": [
    "training_args = TrainingArguments(\n",
    "    output_dir='./results',\n",
    "    num_train_epochs=5,\n",
    "    per_device_train_batch_size=16,\n",
    "    per_device_eval_batch_size=16,\n",
    "    warmup_steps=0,\n",
    "    weight_decay=0.01,\n",
    "    learning_rate=5e-5,\n",
    "    logging_dir='./logs',\n",
    "    logging_steps=10,\n",
    "    evaluation_strategy='steps',\n",
    "    save_total_limit=3,\n",
    "    load_best_model_at_end=True\n",
    ")\n",
    "\n",
    "trainer = Trainer(\n",
    "    model=model,\n",
    "    args=training_args,\n",
    "    train_dataset=train_dataset,\n",
    "    eval_dataset=val_dataset,\n",
    "    data_collator=lambda data: {'input_ids': torch.stack([item['input_ids'] for item in data]),\n",
    "                                'attention_mask': torch.stack([item['attention_mask'] for item in data]),\n",
    "                                'labels': torch.tensor([item['labels'] for item in data])},\n",
    "    compute_metrics=lambda pred: {'accuracy': accuracy_score(pred.label_ids, pred.predictions.argmax(-1))}\n",
    ")"
   ]
  },
  {
   "cell_type": "markdown",
   "id": "b27f196b",
   "metadata": {},
   "source": [
    "## Task 7: Train the Model"
   ]
  },
  {
   "cell_type": "code",
   "execution_count": 8,
   "id": "4fc2bab2",
   "metadata": {},
   "outputs": [
    {
     "name": "stderr",
     "output_type": "stream",
     "text": [
      "/usr/local/lib/python3.8/dist-packages/transformers/optimization.py:391: FutureWarning: This implementation of AdamW is deprecated and will be removed in a future version. Use the PyTorch implementation torch.optim.AdamW instead, or set `no_deprecation_warning=True` to disable this warning\n",
      "  warnings.warn(\n",
      "\u001b[34m\u001b[1mwandb\u001b[0m: Logging into wandb.ai. (Learn how to deploy a W&B server locally: https://wandb.me/wandb-server)\n",
      "\u001b[34m\u001b[1mwandb\u001b[0m: You can find your API key in your browser here: https://wandb.ai/authorize\n",
      "\u001b[34m\u001b[1mwandb\u001b[0m: Paste an API key from your profile and hit enter, or press ctrl+c to quit:"
     ]
    },
    {
     "name": "stdout",
     "output_type": "stream",
     "text": [
      " ········\n"
     ]
    },
    {
     "name": "stderr",
     "output_type": "stream",
     "text": [
      "\u001b[34m\u001b[1mwandb\u001b[0m: Appending key for api.wandb.ai to your netrc file: /root/.netrc\n"
     ]
    },
    {
     "data": {
      "text/html": [
       "Tracking run with wandb version 0.14.2"
      ],
      "text/plain": [
       "<IPython.core.display.HTML object>"
      ]
     },
     "metadata": {},
     "output_type": "display_data"
    },
    {
     "data": {
      "text/html": [
       "Run data is saved locally in <code>/usercode/wandb/run-20230417_095502-dra7ohm8</code>"
      ],
      "text/plain": [
       "<IPython.core.display.HTML object>"
      ]
     },
     "metadata": {},
     "output_type": "display_data"
    },
    {
     "data": {
      "text/html": [
       "Syncing run <strong><a href='https://wandb.ai/edu-projects/huggingface/runs/dra7ohm8' target=\"_blank\">flowing-rain-6</a></strong> to <a href='https://wandb.ai/edu-projects/huggingface' target=\"_blank\">Weights & Biases</a> (<a href='https://wandb.me/run' target=\"_blank\">docs</a>)<br/>"
      ],
      "text/plain": [
       "<IPython.core.display.HTML object>"
      ]
     },
     "metadata": {},
     "output_type": "display_data"
    },
    {
     "data": {
      "text/html": [
       " View project at <a href='https://wandb.ai/edu-projects/huggingface' target=\"_blank\">https://wandb.ai/edu-projects/huggingface</a>"
      ],
      "text/plain": [
       "<IPython.core.display.HTML object>"
      ]
     },
     "metadata": {},
     "output_type": "display_data"
    },
    {
     "data": {
      "text/html": [
       " View run at <a href='https://wandb.ai/edu-projects/huggingface/runs/dra7ohm8' target=\"_blank\">https://wandb.ai/edu-projects/huggingface/runs/dra7ohm8</a>"
      ],
      "text/plain": [
       "<IPython.core.display.HTML object>"
      ]
     },
     "metadata": {},
     "output_type": "display_data"
    },
    {
     "data": {
      "text/html": [
       "\n",
       "    <div>\n",
       "      \n",
       "      <progress value='20' max='20' style='width:300px; height:20px; vertical-align: middle;'></progress>\n",
       "      [20/20 06:34, Epoch 5/5]\n",
       "    </div>\n",
       "    <table border=\"1\" class=\"dataframe\">\n",
       "  <thead>\n",
       " <tr style=\"text-align: left;\">\n",
       "      <th>Step</th>\n",
       "      <th>Training Loss</th>\n",
       "      <th>Validation Loss</th>\n",
       "      <th>Accuracy</th>\n",
       "    </tr>\n",
       "  </thead>\n",
       "  <tbody>\n",
       "    <tr>\n",
       "      <td>10</td>\n",
       "      <td>0.577400</td>\n",
       "      <td>0.795820</td>\n",
       "      <td>0.600000</td>\n",
       "    </tr>\n",
       "    <tr>\n",
       "      <td>20</td>\n",
       "      <td>0.422300</td>\n",
       "      <td>0.876314</td>\n",
       "      <td>0.600000</td>\n",
       "    </tr>\n",
       "  </tbody>\n",
       "</table><p>"
      ],
      "text/plain": [
       "<IPython.core.display.HTML object>"
      ]
     },
     "metadata": {},
     "output_type": "display_data"
    },
    {
     "data": {
      "text/plain": [
       "TrainOutput(global_step=20, training_loss=0.4998456001281738, metrics={'train_runtime': 454.5698, 'train_samples_per_second': 0.66, 'train_steps_per_second': 0.044, 'total_flos': 24974994708000.0, 'train_loss': 0.4998456001281738, 'epoch': 5.0})"
      ]
     },
     "execution_count": 8,
     "metadata": {},
     "output_type": "execute_result"
    }
   ],
   "source": [
    "trainer.train()"
   ]
  },
  {
   "cell_type": "markdown",
   "id": "f64a3ce0",
   "metadata": {},
   "source": [
    "## Task 8: Test the Model and Calculate Accuracy"
   ]
  },
  {
   "cell_type": "code",
   "execution_count": 9,
   "id": "b3b3fa1f",
   "metadata": {},
   "outputs": [
    {
     "data": {
      "text/html": [],
      "text/plain": [
       "<IPython.core.display.HTML object>"
      ]
     },
     "metadata": {},
     "output_type": "display_data"
    },
    {
     "name": "stdout",
     "output_type": "stream",
     "text": [
      "Accuracy: 0.65\n"
     ]
    }
   ],
   "source": [
    "# Get the predicted labels for the test dataset\n",
    "predictions = trainer.predict(test_dataset)\n",
    "predicted_labels = np.argmax(predictions.predictions, axis=1)\n",
    "\n",
    "# Get the true labels for the test dataset\n",
    "true_labels = test_df['label'].tolist()\n",
    "\n",
    "print('Accuracy:', accuracy_score(true_labels, predicted_labels))"
   ]
  },
  {
   "cell_type": "markdown",
   "id": "dd84ebfa",
   "metadata": {},
   "source": [
    "## Task 9: Compute and Display Confusion Matrix"
   ]
  },
  {
   "cell_type": "code",
   "execution_count": 10,
   "id": "0f85845a",
   "metadata": {},
   "outputs": [
    {
     "data": {
      "image/png": "[encoded data removed]",
      "text/plain": [
       "<Figure size 640x480 with 2 Axes>"
      ]
     },
     "metadata": {},
     "output_type": "display_data"
    }
   ],
   "source": [
    "# Compute the confusion matrix\n",
    "cm = confusion_matrix(true_labels, predicted_labels)\n",
    "\n",
    "# Display the confusion matrix\n",
    "cm_display = metrics.ConfusionMatrixDisplay(confusion_matrix = cm, display_labels = [False, True])\n",
    "cm_display.plot()\n",
    "plt.show()"
   ]
  }
 ],
 "metadata": {
  "kernelspec": {
   "display_name": "Python 3 (ipykernel)",
   "language": "python",
   "name": "python3"
  },
  "language_info": {
   "codemirror_mode": {
    "name": "ipython",
    "version": 3
   },
   "file_extension": ".py",
   "mimetype": "text/x-python",
   "name": "python",
   "nbconvert_exporter": "python",
   "pygments_lexer": "ipython3",
   "version": "3.8.10"
  }
 },
 "nbformat": 4,
 "nbformat_minor": 5
}
